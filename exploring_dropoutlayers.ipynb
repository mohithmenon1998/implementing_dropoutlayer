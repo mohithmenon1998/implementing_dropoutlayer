{
  "nbformat": 4,
  "nbformat_minor": 0,
  "metadata": {
    "kernelspec": {
      "display_name": "Python 3",
      "language": "python",
      "name": "python3"
    },
    "language_info": {
      "codemirror_mode": {
        "name": "ipython",
        "version": 3
      },
      "file_extension": ".py",
      "mimetype": "text/x-python",
      "name": "python",
      "nbconvert_exporter": "python",
      "pygments_lexer": "ipython3",
      "version": "3.8.5"
    },
    "colab": {
      "name": "exploring_dropoutlayers.ipynb",
      "provenance": []
    }
  },
  "cells": [
    {
      "cell_type": "markdown",
      "metadata": {
        "id": "i2qexlstMBRY"
      },
      "source": [
        "#Add a 20% dropout layer after every max pooling layer follwed by 50% dropout after the dense layer."
      ]
    },
    {
      "cell_type": "code",
      "metadata": {
        "id": "uHc8icYHMBRe"
      },
      "source": [
        "from tensorflow.keras import layers\n",
        "from tensorflow.keras import models\n",
        "from tensorflow.keras.preprocessing.image import ImageDataGenerator\n",
        "from tensorflow.keras.layers import Flatten, Dense, Conv1D, MaxPool1D, Dropout"
      ],
      "execution_count": null,
      "outputs": []
    },
    {
      "cell_type": "code",
      "metadata": {
        "id": "OangdP64MBRf"
      },
      "source": [
        "Image_Width=200\n",
        "Image_Height=200\n",
        "Image_Size=(Image_Width,Image_Height)\n",
        "Image_Channels=3"
      ],
      "execution_count": null,
      "outputs": []
    },
    {
      "cell_type": "code",
      "metadata": {
        "id": "nVtoMGxQMBRg",
        "outputId": "216ba284-8705-4cbf-cf38-b803f6bd2650"
      },
      "source": [
        "model = models.Sequential()\n",
        "model.add(layers.Conv2D(32, (3, 3), activation='relu', input_shape=(Image_Width,Image_Height,Image_Channels)))\n",
        "model.add(layers.MaxPooling2D((2, 2)))\n",
        "model.add(Dropout(0.2))\n",
        "model.add(layers.Conv2D(64, (3, 3), activation='relu'))\n",
        "model.add(layers.MaxPooling2D((2, 2)))\n",
        "model.add(Dropout(0.2))\n",
        "model.add(layers.Conv2D(128, (3, 3), activation='relu'))\n",
        "model.add(layers.MaxPooling2D((2, 2)))\n",
        "model.add(Dropout(0.2))\n",
        "model.add(layers.Flatten()) \n",
        "model.add(layers.Dense(128, activation='relu'))\n",
        "model.add(Dropout(0.5))\n",
        "model.add(layers.Dense(2, activation='softmax'))\n",
        "model.summary()"
      ],
      "execution_count": null,
      "outputs": [
        {
          "output_type": "stream",
          "text": [
            "Model: \"sequential\"\n",
            "_________________________________________________________________\n",
            "Layer (type)                 Output Shape              Param #   \n",
            "=================================================================\n",
            "conv2d (Conv2D)              (None, 198, 198, 32)      896       \n",
            "_________________________________________________________________\n",
            "max_pooling2d (MaxPooling2D) (None, 99, 99, 32)        0         \n",
            "_________________________________________________________________\n",
            "dropout (Dropout)            (None, 99, 99, 32)        0         \n",
            "_________________________________________________________________\n",
            "conv2d_1 (Conv2D)            (None, 97, 97, 64)        18496     \n",
            "_________________________________________________________________\n",
            "max_pooling2d_1 (MaxPooling2 (None, 48, 48, 64)        0         \n",
            "_________________________________________________________________\n",
            "dropout_1 (Dropout)          (None, 48, 48, 64)        0         \n",
            "_________________________________________________________________\n",
            "conv2d_2 (Conv2D)            (None, 46, 46, 128)       73856     \n",
            "_________________________________________________________________\n",
            "max_pooling2d_2 (MaxPooling2 (None, 23, 23, 128)       0         \n",
            "_________________________________________________________________\n",
            "dropout_2 (Dropout)          (None, 23, 23, 128)       0         \n",
            "_________________________________________________________________\n",
            "flatten (Flatten)            (None, 67712)             0         \n",
            "_________________________________________________________________\n",
            "dense (Dense)                (None, 128)               8667264   \n",
            "_________________________________________________________________\n",
            "dropout_3 (Dropout)          (None, 128)               0         \n",
            "_________________________________________________________________\n",
            "dense_1 (Dense)              (None, 2)                 258       \n",
            "=================================================================\n",
            "Total params: 8,760,770\n",
            "Trainable params: 8,760,770\n",
            "Non-trainable params: 0\n",
            "_________________________________________________________________\n"
          ],
          "name": "stdout"
        }
      ]
    },
    {
      "cell_type": "code",
      "metadata": {
        "id": "W54cfQ36MBRh"
      },
      "source": [
        "datagen = ImageDataGenerator(rescale=1.0/255.0)"
      ],
      "execution_count": null,
      "outputs": []
    },
    {
      "cell_type": "code",
      "metadata": {
        "id": "OTmhg1QqMBRh",
        "outputId": "3ea16ea8-62ec-4b62-f4b2-b94332590be8"
      },
      "source": [
        "train_it = datagen.flow_from_directory('C:/Users/Welcome/Documents/Dataset/training_set',class_mode='categorical', batch_size=128, target_size=(200, 200))\n",
        "test_it = datagen.flow_from_directory('C:/Users/Welcome/Documents/Dataset/test_set',class_mode='categorical', batch_size=128, target_size=(200, 200))"
      ],
      "execution_count": null,
      "outputs": [
        {
          "output_type": "stream",
          "text": [
            "Found 5319 images belonging to 2 classes.\n",
            "Found 2032 images belonging to 2 classes.\n"
          ],
          "name": "stdout"
        }
      ]
    },
    {
      "cell_type": "code",
      "metadata": {
        "id": "lmUahBgMMBRi"
      },
      "source": [
        "model.compile(optimizer='rmsprop',\n",
        "              loss='categorical_crossentropy',\n",
        "              metrics=['accuracy'])"
      ],
      "execution_count": null,
      "outputs": []
    },
    {
      "cell_type": "code",
      "metadata": {
        "scrolled": true,
        "id": "fWlLw2IgMBRi",
        "outputId": "69ed0eae-e690-4c90-ad8a-d25b60ead29e"
      },
      "source": [
        "history = model.fit(train_it,validation_data=test_it, epochs=5)"
      ],
      "execution_count": null,
      "outputs": [
        {
          "output_type": "stream",
          "text": [
            "Epoch 1/5\n",
            "42/42 [==============================] - 424s 10s/step - loss: 4.8333 - accuracy: 0.7143 - val_loss: 0.6960 - val_accuracy: 0.5015\n",
            "Epoch 2/5\n",
            "42/42 [==============================] - 403s 10s/step - loss: 0.6189 - accuracy: 0.7439 - val_loss: 0.6985 - val_accuracy: 0.5015\n",
            "Epoch 3/5\n",
            "42/42 [==============================] - 466s 11s/step - loss: 0.5833 - accuracy: 0.7477 - val_loss: 0.6871 - val_accuracy: 0.5030\n",
            "Epoch 4/5\n",
            "42/42 [==============================] - 495s 12s/step - loss: 0.5544 - accuracy: 0.7488 - val_loss: 0.6825 - val_accuracy: 0.5064\n",
            "Epoch 5/5\n",
            "42/42 [==============================] - 480s 11s/step - loss: 0.5298 - accuracy: 0.7474 - val_loss: 0.6313 - val_accuracy: 0.5999\n"
          ],
          "name": "stdout"
        }
      ]
    },
    {
      "cell_type": "markdown",
      "metadata": {
        "id": "rnLrbxdPMBRi"
      },
      "source": [
        "Epoch 1/5\n",
        "42/42 [==============================] - 424s 10s/step - loss: 4.8333 - accuracy: 0.7143 - val_loss: 0.6960 - val_accuracy: 0.5015\n",
        "Epoch 2/5\n",
        "42/42 [==============================] - 403s 10s/step - loss: 0.6189 - accuracy: 0.7439 - val_loss: 0.6985 - val_accuracy: 0.5015\n",
        "Epoch 3/5\n",
        "42/42 [==============================] - 466s 11s/step - loss: 0.5833 - accuracy: 0.7477 - val_loss: 0.6871 - val_accuracy: 0.5030\n",
        "Epoch 4/5\n",
        "42/42 [==============================] - 495s 12s/step - loss: 0.5544 - accuracy: 0.7488 - val_loss: 0.6825 - val_accuracy: 0.5064\n",
        "Epoch 5/5\n",
        "42/42 [==============================] - 480s 11s/step - loss: 0.5298 - accuracy: 0.7474 - val_loss: 0.6313 - val_accuracy: 0.5999"
      ]
    },
    {
      "cell_type": "code",
      "metadata": {
        "id": "bcIv--1kMBRj",
        "outputId": "cb21b6b8-31bb-4c90-d6b3-1457ac23f510"
      },
      "source": [
        "from matplotlib import pyplot\n",
        "pyplot.subplot(211)\n",
        "pyplot.title('Cross Entropy Loss')\n",
        "pyplot.plot(history.history['loss'], color='blue', label='train')\n",
        "pyplot.plot(history.history['val_loss'], color='orange', label='test')\n",
        "pyplot.show()\n",
        "# plot accuracy\n",
        "pyplot.subplot(212)\n",
        "pyplot.title('Classification Accuracy')\n",
        "pyplot.plot(history.history['accuracy'], color='blue', label='train')\n",
        "pyplot.plot(history.history['val_accuracy'], color='orange', label='test')\n",
        "pyplot.show()"
      ],
      "execution_count": null,
      "outputs": [
        {
          "output_type": "display_data",
          "data": {
            "image/png": "[encoded data removed]",
            "text/plain": [
              "<Figure size 432x288 with 1 Axes>"
            ]
          },
          "metadata": {
            "tags": [],
            "needs_background": "light"
          }
        },
        {
          "output_type": "display_data",
          "data": {
            "image/png": "[encoded data removed]",
            "text/plain": [
              "<Figure size 432x288 with 1 Axes>"
            ]
          },
          "metadata": {
            "tags": [],
            "needs_background": "light"
          }
        }
      ]
    }
  ]
}